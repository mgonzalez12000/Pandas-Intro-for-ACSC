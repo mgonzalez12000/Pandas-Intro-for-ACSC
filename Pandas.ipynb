{
  "nbformat": 4,
  "nbformat_minor": 0,
  "metadata": {
    "colab": {
      "name": "Pandas.ipynb",
      "provenance": [],
      "collapsed_sections": [],
      "authorship_tag": "ABX9TyPUewjjU5MoOF6KSw9LjdWz"
    },
    "kernelspec": {
      "name": "python3",
      "display_name": "Python 3"
    },
    "language_info": {
      "name": "python"
    }
  },
  "cells": [
    {
      "cell_type": "code",
      "execution_count": 37,
      "metadata": {
        "id": "5lQ5BTSbrrCg"
      },
      "outputs": [],
      "source": [
        "# This notebook is going to introduce the basics of the Pandas library,\n",
        "# how to import data, and how to use Pandas to create cool data visualizations\n",
        "\n",
        "# In order to work with our data set (We will be using a .csv file), we will\n",
        "# need to import the file\n",
        "# 1) Click the folder icon to the left\n",
        "# 2) Click on the folder with the upwards arrow\n",
        "# 3) In the dialog box select your desired file. In our notebook we will be\n",
        "#    working with the 'pokemon.csv' file. I will attempt to upload this notebook,\n",
        "#    and dataset to my github. It will be linked here: https://github.com/mgonzalez12000\n",
        "#    under the 'Pandas-Intro-for-ACSC' repo\n",
        "\n",
        "# Just like matplotlib, we are going to import Pandas"
      ]
    },
    {
      "cell_type": "code",
      "source": [
        "import pandas as pd"
      ],
      "metadata": {
        "id": "dbbjEMf6tcpI"
      },
      "execution_count": 1,
      "outputs": []
    },
    {
      "cell_type": "code",
      "source": [
        "# To read 'pokemon.csv', we will use the built-in function of the pandas library\n",
        "# known as .read_csv()\n",
        "# We will create a new variable named df_pokemon and assign such value\n",
        "# This value being stored is considered our dataframe and is essential for our\n",
        "# entier programs\n",
        "df_pokemon = pd.read_csv('pokemon.csv')"
      ],
      "metadata": {
        "id": "Qtl3nv9ktfvI"
      },
      "execution_count": 3,
      "outputs": []
    },
    {
      "cell_type": "code",
      "source": [
        "# Now if we want to print the dataset, we can simply call df_pokmen.\n",
        "# However, if you take a look at our dataset, our dataset is pretty big. \n",
        "# So lets try printing the first 5 rows...\n",
        "# In order to do so, we have to use the .head(), where its argument are n number\n",
        "# of rows\n",
        "df_pokemon.head(n=5)"
      ],
      "metadata": {
        "id": "UQrLIhLhuBaO"
      },
      "execution_count": null,
      "outputs": []
    },
    {
      "cell_type": "code",
      "source": [
        "# Pandas also allows you to sort our dataframe (df_pokmeon) by the value of the\n",
        "# coloumn. The following line of code will sort df_pokmon in descending order by\n",
        "# \"base_total\" and print to output\n",
        "\n",
        "# We are going to be using a new function known as .sort_values()\n",
        "# The arguments for .sort_values() are .sort_values('coloumnName', ascending = T/F)\n",
        "\n",
        "df_pokemon.sort_values('base_total', ascending=False).head(n=5)"
      ],
      "metadata": {
        "id": "lYkNJnBgu2BY"
      },
      "execution_count": null,
      "outputs": []
    },
    {
      "cell_type": "code",
      "source": [
        "# Just like .head() returns the first n number of rows in a data set, we also\n",
        "# have another function that will allow us to return the last n number of rows\n",
        "# in the data set that we are working with\n",
        "\n",
        "# That function is known as .tail() and works similar to how .head() works"
      ],
      "metadata": {
        "id": "l8krMlwjw3o-"
      },
      "execution_count": null,
      "outputs": []
    },
    {
      "cell_type": "code",
      "source": [
        "# We are going to print the last 5 rows of our dataset by using .tail()\n",
        "df_pokemon.tail(n=5)"
      ],
      "metadata": {
        "id": "gjjzfNuhxOlw"
      },
      "execution_count": null,
      "outputs": []
    },
    {
      "cell_type": "code",
      "source": [
        "# Now we are going to use the Pandas library to create cool data visualizations\n",
        "# Pandas allows you to make plots of Series or DataFrame using function\n",
        "# 'pandas.DataFrame.plot'"
      ],
      "metadata": {
        "id": "kGv8K6WoxcMF"
      },
      "execution_count": null,
      "outputs": []
    },
    {
      "cell_type": "code",
      "source": [
        "# We are now going to create a scatter plot to show the relationship between\n",
        "# Pokemons' offensive and defensive capabilities. To create a scatter plot\n",
        "# we use .scatter(arg1, arg2)\n",
        "# NOTICE, our x and y arguments are the name of our coloumns in our data set\n",
        "df_pokemon.plot.scatter(x='attack', y='defense')"
      ],
      "metadata": {
        "id": "xmaW0-B7zQBy"
      },
      "execution_count": null,
      "outputs": []
    },
    {
      "cell_type": "code",
      "source": [
        "# Using Pandas, we will also be able to create a \"color bar\" that will allow us\n",
        "# to differentiate our data. The following line of code will add color variation\n",
        "# that will allow us to learn whether Pokemons with lower offensive and\n",
        "# defensive capabilities are easily captured\n",
        "\n",
        "# In order to do so, all we have to add is a 'c' paramter (shorthand for color)\n",
        "# and its corresponding value to its corresponding coloumn name\n",
        "\n",
        "# NOTE: once again, 'capture_rate' is a name of a coloumn in our data set\n",
        "df_pokemon.plot.scatter(x='attack', y='defense', c='capture_rate')"
      ],
      "metadata": {
        "id": "fO6dQ_aX0R7O"
      },
      "execution_count": null,
      "outputs": []
    },
    {
      "cell_type": "code",
      "source": [
        "# However, to change the data, you can also assign the value of the c paramter\n",
        "# as a color as a string\n",
        "# In this example we are change the scatter plot to the color green\n",
        "df_pokemon.plot.scatter(x='attack', y='defense', c='green')"
      ],
      "metadata": {
        "id": "_lVgvze4n-PC"
      },
      "execution_count": null,
      "outputs": []
    },
    {
      "cell_type": "code",
      "source": [
        "# We can also create bar graphs by using Pandas. To create a bar graph, we use\n",
        "# .bar(arg1, arg2)\n",
        "df_pokemon.plot.bar(x='name', y='speed')"
      ],
      "metadata": {
        "id": "Bp1PNcVh2JQo"
      },
      "execution_count": null,
      "outputs": []
    },
    {
      "cell_type": "code",
      "source": [
        "# As you see from above, our bar chart is crowded... how can we fix this?\n",
        "# String slicing!!!\n",
        "# By using string slicing, we will be able to only plot a certain \"chunk\" of the\n",
        "# data set. "
      ],
      "metadata": {
        "id": "vQr7k7p824gN"
      },
      "execution_count": null,
      "outputs": []
    },
    {
      "cell_type": "code",
      "source": [
        "# The following line of code uses string slicing to only print the first 5 only\n",
        "df_pokemon[0:5].plot.bar(x='name', y='speed')"
      ],
      "metadata": {
        "id": "c7OtE_qZ30T7"
      },
      "execution_count": null,
      "outputs": []
    },
    {
      "cell_type": "code",
      "source": [
        "# Sometimes your chart does not provide you the appropiate labels so you will\n",
        "# need to name them yourself. This can be done easily.\n",
        "\n",
        "# Craete a reference variable. This variable will store our chart\n",
        "barGraph = df_pokemon[0:5].plot.bar(x='name', y='speed')\n",
        "# Call our reference variable, and use .set_xlabel() and .set_ylabel() to set\n",
        "# x and y label names respectively\n",
        "barGraph.set_xlabel('Name')\n",
        "barGraph.set_ylabel('Speed')"
      ],
      "metadata": {
        "id": "MTXhSOv84AeD"
      },
      "execution_count": null,
      "outputs": []
    },
    {
      "cell_type": "code",
      "source": [
        "# Changing the bar color by passing in the color argument and assigning the\n",
        "# value as the desired color as a string. In this example we are chaning our\n",
        "# blue bar chart into red\n",
        "barGraph = df_pokemon[0:5].plot.bar(x='name', y='speed', color='red')\n",
        "barGraph.set_xlabel('Name')\n",
        "barGraph.set_ylabel('Speed')"
      ],
      "metadata": {
        "id": "BN0iM53FoFqk"
      },
      "execution_count": null,
      "outputs": []
    },
    {
      "cell_type": "code",
      "source": [
        "# Try to replicate the same bar graph above and change it to the color yellow"
      ],
      "metadata": {
        "id": "nnDQhUCPdIYE"
      },
      "execution_count": null,
      "outputs": []
    },
    {
      "cell_type": "code",
      "source": [
        "# Lets output our entire data set (data frame)\n",
        "df_pokemon"
      ],
      "metadata": {
        "id": "xr69vAOcllKn"
      },
      "execution_count": null,
      "outputs": []
    },
    {
      "cell_type": "code",
      "source": [
        "# If you want to print items in a specfic row, you can use .loc()\n",
        "# THis print this first row and all of its corresponding columns\n",
        "# The first arg inside the bracket is the index row, and the \":\" means for \"everything\"\n",
        "df_pokemon.loc[0,:]"
      ],
      "metadata": {
        "id": "gDx_SRSGiLFQ"
      },
      "execution_count": null,
      "outputs": []
    },
    {
      "cell_type": "code",
      "source": [
        "# If you want to print all the items in a specific column, you can use bracket\n",
        "# notation and pass in the name of the coloumn\n",
        "df_pokemon['name']"
      ],
      "metadata": {
        "id": "V6ITi4zEi50U"
      },
      "execution_count": null,
      "outputs": []
    },
    {
      "cell_type": "code",
      "source": [
        "# For first row and some specific column\n",
        "# The first arg is the row index number, and the second arg is the coloumn name\n",
        "df_pokemon.loc[0,'name']"
      ],
      "metadata": {
        "colab": {
          "base_uri": "https://localhost:8080/",
          "height": 37
        },
        "id": "2Iy-GQsQjwps",
        "outputId": "029510be-8c4e-42b5-f9c7-aa70cf828153"
      },
      "execution_count": 12,
      "outputs": [
        {
          "output_type": "execute_result",
          "data": {
            "text/plain": [
              "'Bulbasaur'"
            ],
            "application/vnd.google.colaboratory.intrinsic+json": {
              "type": "string"
            }
          },
          "metadata": {},
          "execution_count": 12
        }
      ]
    },
    {
      "cell_type": "code",
      "source": [
        ""
      ],
      "metadata": {
        "id": "5VIWKvQLlf8Y"
      },
      "execution_count": null,
      "outputs": []
    }
  ]
}