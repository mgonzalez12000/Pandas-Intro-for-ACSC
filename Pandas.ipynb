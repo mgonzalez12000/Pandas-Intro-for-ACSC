{
  "nbformat": 4,
  "nbformat_minor": 0,
  "metadata": {
    "colab": {
      "name": "Pandas.ipynb",
      "provenance": [],
      "collapsed_sections": [],
      "authorship_tag": "ABX9TyNIeCQUqB320WfvuDgxLYbw"
    },
    "kernelspec": {
      "name": "python3",
      "display_name": "Python 3"
    },
    "language_info": {
      "name": "python"
    }
  },
  "cells": [
    {
      "cell_type": "code",
      "execution_count": 1,
      "metadata": {
        "id": "5lQ5BTSbrrCg"
      },
      "outputs": [],
      "source": [
        "# This notebook is going to introduce the basics of the Pandas library,\n",
        "# how to import data, and how to use Pandas to create cool data visualizations\n",
        "\n",
        "# In order to work with out data set (We will be using a .csv file), we will\n",
        "# need to import the file\n",
        "# 1) Click the folder icone to the left\n",
        "# 2) Click on the folder with the upwards arrow\n",
        "# 3) In the dialog box select your desired file. In our notebook we will be\n",
        "#    working with the 'pokemon.csv' file. I will attempt to upload this notebook,\n",
        "#    and dataset to my github. It will be linked here: https://github.com/mgonzalez12000\n",
        "\n",
        "# Just like matplotlib, we are going to import Pandas"
      ]
    },
    {
      "cell_type": "code",
      "source": [
        "import pandas as pd"
      ],
      "metadata": {
        "id": "dbbjEMf6tcpI"
      },
      "execution_count": 2,
      "outputs": []
    },
    {
      "cell_type": "code",
      "source": [
        "# To read 'pokemon.csv', we will use the built-in function of the pandas library\n",
        "# known as .read_csv()\n",
        "# We will create a new variable named df_pokemon and assign such value\n",
        "df_pokemon = pd.read_csv('/pokemon.csv')"
      ],
      "metadata": {
        "id": "Qtl3nv9ktfvI"
      },
      "execution_count": 4,
      "outputs": []
    },
    {
      "cell_type": "code",
      "source": [
        "# Now if we want to print the dataset, we can simply call df_pokmen.\n",
        "# However, if you take a look at our dataset, our dataset is pretty big. \n",
        "# So lets try printing the first 5 rows...\n",
        "# In order to do so, we have to use the .head(), where its argument are n number\n",
        "# of rows\n",
        "df_pokemon.head(n=5)"
      ],
      "metadata": {
        "colab": {
          "base_uri": "https://localhost:8080/",
          "height": 204
        },
        "id": "UQrLIhLhuBaO",
        "outputId": "1804a7e4-2628-4317-a897-4817bdd2a20e"
      },
      "execution_count": 6,
      "outputs": [
        {
          "output_type": "execute_result",
          "data": {
            "text/plain": [
              "   pokedex_number        name     japanese_name  base_total  attack  defense  \\\n",
              "0               1   Bulbasaur  Fushigidaneフシギダネ         318      49       49   \n",
              "1               2     Ivysaur   Fushigisouフシギソウ         405      62       63   \n",
              "2               3    Venusaur  Fushigibanaフシギバナ         625     100      123   \n",
              "3               4  Charmander      Hitokageヒトカゲ         309      52       43   \n",
              "4               5  Charmeleon       Lizardoリザード         405      64       58   \n",
              "\n",
              "   sp_attack  sp_defense  speed  hp  capture_rate  is_legendary  \n",
              "0         65          65     45  45            45             0  \n",
              "1         80          80     60  60            45             0  \n",
              "2        122         120     80  80            45             0  \n",
              "3         60          50     65  39            45             0  \n",
              "4         80          65     80  58            45             0  "
            ],
            "text/html": [
              "\n",
              "  <div id=\"df-bfa4393f-b030-4702-b8f3-ad1f5f370dd3\">\n",
              "    <div class=\"colab-df-container\">\n",
              "      <div>\n",
              "<style scoped>\n",
              "    .dataframe tbody tr th:only-of-type {\n",
              "        vertical-align: middle;\n",
              "    }\n",
              "\n",
              "    .dataframe tbody tr th {\n",
              "        vertical-align: top;\n",
              "    }\n",
              "\n",
              "    .dataframe thead th {\n",
              "        text-align: right;\n",
              "    }\n",
              "</style>\n",
              "<table border=\"1\" class=\"dataframe\">\n",
              "  <thead>\n",
              "    <tr style=\"text-align: right;\">\n",
              "      <th></th>\n",
              "      <th>pokedex_number</th>\n",
              "      <th>name</th>\n",
              "      <th>japanese_name</th>\n",
              "      <th>base_total</th>\n",
              "      <th>attack</th>\n",
              "      <th>defense</th>\n",
              "      <th>sp_attack</th>\n",
              "      <th>sp_defense</th>\n",
              "      <th>speed</th>\n",
              "      <th>hp</th>\n",
              "      <th>capture_rate</th>\n",
              "      <th>is_legendary</th>\n",
              "    </tr>\n",
              "  </thead>\n",
              "  <tbody>\n",
              "    <tr>\n",
              "      <th>0</th>\n",
              "      <td>1</td>\n",
              "      <td>Bulbasaur</td>\n",
              "      <td>Fushigidaneフシギダネ</td>\n",
              "      <td>318</td>\n",
              "      <td>49</td>\n",
              "      <td>49</td>\n",
              "      <td>65</td>\n",
              "      <td>65</td>\n",
              "      <td>45</td>\n",
              "      <td>45</td>\n",
              "      <td>45</td>\n",
              "      <td>0</td>\n",
              "    </tr>\n",
              "    <tr>\n",
              "      <th>1</th>\n",
              "      <td>2</td>\n",
              "      <td>Ivysaur</td>\n",
              "      <td>Fushigisouフシギソウ</td>\n",
              "      <td>405</td>\n",
              "      <td>62</td>\n",
              "      <td>63</td>\n",
              "      <td>80</td>\n",
              "      <td>80</td>\n",
              "      <td>60</td>\n",
              "      <td>60</td>\n",
              "      <td>45</td>\n",
              "      <td>0</td>\n",
              "    </tr>\n",
              "    <tr>\n",
              "      <th>2</th>\n",
              "      <td>3</td>\n",
              "      <td>Venusaur</td>\n",
              "      <td>Fushigibanaフシギバナ</td>\n",
              "      <td>625</td>\n",
              "      <td>100</td>\n",
              "      <td>123</td>\n",
              "      <td>122</td>\n",
              "      <td>120</td>\n",
              "      <td>80</td>\n",
              "      <td>80</td>\n",
              "      <td>45</td>\n",
              "      <td>0</td>\n",
              "    </tr>\n",
              "    <tr>\n",
              "      <th>3</th>\n",
              "      <td>4</td>\n",
              "      <td>Charmander</td>\n",
              "      <td>Hitokageヒトカゲ</td>\n",
              "      <td>309</td>\n",
              "      <td>52</td>\n",
              "      <td>43</td>\n",
              "      <td>60</td>\n",
              "      <td>50</td>\n",
              "      <td>65</td>\n",
              "      <td>39</td>\n",
              "      <td>45</td>\n",
              "      <td>0</td>\n",
              "    </tr>\n",
              "    <tr>\n",
              "      <th>4</th>\n",
              "      <td>5</td>\n",
              "      <td>Charmeleon</td>\n",
              "      <td>Lizardoリザード</td>\n",
              "      <td>405</td>\n",
              "      <td>64</td>\n",
              "      <td>58</td>\n",
              "      <td>80</td>\n",
              "      <td>65</td>\n",
              "      <td>80</td>\n",
              "      <td>58</td>\n",
              "      <td>45</td>\n",
              "      <td>0</td>\n",
              "    </tr>\n",
              "  </tbody>\n",
              "</table>\n",
              "</div>\n",
              "      <button class=\"colab-df-convert\" onclick=\"convertToInteractive('df-bfa4393f-b030-4702-b8f3-ad1f5f370dd3')\"\n",
              "              title=\"Convert this dataframe to an interactive table.\"\n",
              "              style=\"display:none;\">\n",
              "        \n",
              "  <svg xmlns=\"http://www.w3.org/2000/svg\" height=\"24px\"viewBox=\"0 0 24 24\"\n",
              "       width=\"24px\">\n",
              "    <path d=\"M0 0h24v24H0V0z\" fill=\"none\"/>\n",
              "    <path d=\"M18.56 5.44l.94 2.06.94-2.06 2.06-.94-2.06-.94-.94-2.06-.94 2.06-2.06.94zm-11 1L8.5 8.5l.94-2.06 2.06-.94-2.06-.94L8.5 2.5l-.94 2.06-2.06.94zm10 10l.94 2.06.94-2.06 2.06-.94-2.06-.94-.94-2.06-.94 2.06-2.06.94z\"/><path d=\"M17.41 7.96l-1.37-1.37c-.4-.4-.92-.59-1.43-.59-.52 0-1.04.2-1.43.59L10.3 9.45l-7.72 7.72c-.78.78-.78 2.05 0 2.83L4 21.41c.39.39.9.59 1.41.59.51 0 1.02-.2 1.41-.59l7.78-7.78 2.81-2.81c.8-.78.8-2.07 0-2.86zM5.41 20L4 18.59l7.72-7.72 1.47 1.35L5.41 20z\"/>\n",
              "  </svg>\n",
              "      </button>\n",
              "      \n",
              "  <style>\n",
              "    .colab-df-container {\n",
              "      display:flex;\n",
              "      flex-wrap:wrap;\n",
              "      gap: 12px;\n",
              "    }\n",
              "\n",
              "    .colab-df-convert {\n",
              "      background-color: #E8F0FE;\n",
              "      border: none;\n",
              "      border-radius: 50%;\n",
              "      cursor: pointer;\n",
              "      display: none;\n",
              "      fill: #1967D2;\n",
              "      height: 32px;\n",
              "      padding: 0 0 0 0;\n",
              "      width: 32px;\n",
              "    }\n",
              "\n",
              "    .colab-df-convert:hover {\n",
              "      background-color: #E2EBFA;\n",
              "      box-shadow: 0px 1px 2px rgba(60, 64, 67, 0.3), 0px 1px 3px 1px rgba(60, 64, 67, 0.15);\n",
              "      fill: #174EA6;\n",
              "    }\n",
              "\n",
              "    [theme=dark] .colab-df-convert {\n",
              "      background-color: #3B4455;\n",
              "      fill: #D2E3FC;\n",
              "    }\n",
              "\n",
              "    [theme=dark] .colab-df-convert:hover {\n",
              "      background-color: #434B5C;\n",
              "      box-shadow: 0px 1px 3px 1px rgba(0, 0, 0, 0.15);\n",
              "      filter: drop-shadow(0px 1px 2px rgba(0, 0, 0, 0.3));\n",
              "      fill: #FFFFFF;\n",
              "    }\n",
              "  </style>\n",
              "\n",
              "      <script>\n",
              "        const buttonEl =\n",
              "          document.querySelector('#df-bfa4393f-b030-4702-b8f3-ad1f5f370dd3 button.colab-df-convert');\n",
              "        buttonEl.style.display =\n",
              "          google.colab.kernel.accessAllowed ? 'block' : 'none';\n",
              "\n",
              "        async function convertToInteractive(key) {\n",
              "          const element = document.querySelector('#df-bfa4393f-b030-4702-b8f3-ad1f5f370dd3');\n",
              "          const dataTable =\n",
              "            await google.colab.kernel.invokeFunction('convertToInteractive',\n",
              "                                                     [key], {});\n",
              "          if (!dataTable) return;\n",
              "\n",
              "          const docLinkHtml = 'Like what you see? Visit the ' +\n",
              "            '<a target=\"_blank\" href=https://colab.research.google.com/notebooks/data_table.ipynb>data table notebook</a>'\n",
              "            + ' to learn more about interactive tables.';\n",
              "          element.innerHTML = '';\n",
              "          dataTable['output_type'] = 'display_data';\n",
              "          await google.colab.output.renderOutput(dataTable, element);\n",
              "          const docLink = document.createElement('div');\n",
              "          docLink.innerHTML = docLinkHtml;\n",
              "          element.appendChild(docLink);\n",
              "        }\n",
              "      </script>\n",
              "    </div>\n",
              "  </div>\n",
              "  "
            ]
          },
          "metadata": {},
          "execution_count": 6
        }
      ]
    },
    {
      "cell_type": "code",
      "source": [
        "# Pandas also allows you to sort our dataframe (df_pokmeon) by the value of the\n",
        "# coloumn. The following line of code will sort df_pokmon in descending order by\n",
        "# \"base_total\" and print to output\n",
        "\n",
        "# We are going to be using a new function known as .sort_values()\n",
        "# The arguments for .sort_values() are .sort_values('coloumnName', ascending = T/F)\n",
        "\n",
        "df_pokemon.sort_values('base_total', ascending=False).head(n=5)"
      ],
      "metadata": {
        "colab": {
          "base_uri": "https://localhost:8080/",
          "height": 204
        },
        "id": "lYkNJnBgu2BY",
        "outputId": "68d87d2f-62a4-4ef0-c092-56235fc76242"
      },
      "execution_count": 7,
      "outputs": [
        {
          "output_type": "execute_result",
          "data": {
            "text/plain": [
              "     pokedex_number      name  japanese_name  base_total  attack  defense  \\\n",
              "149             150    Mewtwo    Mewtwoミュウツー         780     150       70   \n",
              "383             384  Rayquaza  Rayquazaレックウザ         780     180      100   \n",
              "382             383   Groudon   Groudonグラードン         770     180      160   \n",
              "381             382    Kyogre    Kyogreカイオーガ         770     150       90   \n",
              "492             493    Arceus    Arceusアルセウス         720     120      120   \n",
              "\n",
              "     sp_attack  sp_defense  speed   hp  capture_rate  is_legendary  \n",
              "149        194         120    140  106             3             1  \n",
              "383        180         100    115  105            45             1  \n",
              "382        150          90     90  100             3             1  \n",
              "381        180         160     90  100             3             1  \n",
              "492        120         120    120  120             3             1  "
            ],
            "text/html": [
              "\n",
              "  <div id=\"df-6287255e-de89-4f21-bf1f-8b2fcbdd9a5c\">\n",
              "    <div class=\"colab-df-container\">\n",
              "      <div>\n",
              "<style scoped>\n",
              "    .dataframe tbody tr th:only-of-type {\n",
              "        vertical-align: middle;\n",
              "    }\n",
              "\n",
              "    .dataframe tbody tr th {\n",
              "        vertical-align: top;\n",
              "    }\n",
              "\n",
              "    .dataframe thead th {\n",
              "        text-align: right;\n",
              "    }\n",
              "</style>\n",
              "<table border=\"1\" class=\"dataframe\">\n",
              "  <thead>\n",
              "    <tr style=\"text-align: right;\">\n",
              "      <th></th>\n",
              "      <th>pokedex_number</th>\n",
              "      <th>name</th>\n",
              "      <th>japanese_name</th>\n",
              "      <th>base_total</th>\n",
              "      <th>attack</th>\n",
              "      <th>defense</th>\n",
              "      <th>sp_attack</th>\n",
              "      <th>sp_defense</th>\n",
              "      <th>speed</th>\n",
              "      <th>hp</th>\n",
              "      <th>capture_rate</th>\n",
              "      <th>is_legendary</th>\n",
              "    </tr>\n",
              "  </thead>\n",
              "  <tbody>\n",
              "    <tr>\n",
              "      <th>149</th>\n",
              "      <td>150</td>\n",
              "      <td>Mewtwo</td>\n",
              "      <td>Mewtwoミュウツー</td>\n",
              "      <td>780</td>\n",
              "      <td>150</td>\n",
              "      <td>70</td>\n",
              "      <td>194</td>\n",
              "      <td>120</td>\n",
              "      <td>140</td>\n",
              "      <td>106</td>\n",
              "      <td>3</td>\n",
              "      <td>1</td>\n",
              "    </tr>\n",
              "    <tr>\n",
              "      <th>383</th>\n",
              "      <td>384</td>\n",
              "      <td>Rayquaza</td>\n",
              "      <td>Rayquazaレックウザ</td>\n",
              "      <td>780</td>\n",
              "      <td>180</td>\n",
              "      <td>100</td>\n",
              "      <td>180</td>\n",
              "      <td>100</td>\n",
              "      <td>115</td>\n",
              "      <td>105</td>\n",
              "      <td>45</td>\n",
              "      <td>1</td>\n",
              "    </tr>\n",
              "    <tr>\n",
              "      <th>382</th>\n",
              "      <td>383</td>\n",
              "      <td>Groudon</td>\n",
              "      <td>Groudonグラードン</td>\n",
              "      <td>770</td>\n",
              "      <td>180</td>\n",
              "      <td>160</td>\n",
              "      <td>150</td>\n",
              "      <td>90</td>\n",
              "      <td>90</td>\n",
              "      <td>100</td>\n",
              "      <td>3</td>\n",
              "      <td>1</td>\n",
              "    </tr>\n",
              "    <tr>\n",
              "      <th>381</th>\n",
              "      <td>382</td>\n",
              "      <td>Kyogre</td>\n",
              "      <td>Kyogreカイオーガ</td>\n",
              "      <td>770</td>\n",
              "      <td>150</td>\n",
              "      <td>90</td>\n",
              "      <td>180</td>\n",
              "      <td>160</td>\n",
              "      <td>90</td>\n",
              "      <td>100</td>\n",
              "      <td>3</td>\n",
              "      <td>1</td>\n",
              "    </tr>\n",
              "    <tr>\n",
              "      <th>492</th>\n",
              "      <td>493</td>\n",
              "      <td>Arceus</td>\n",
              "      <td>Arceusアルセウス</td>\n",
              "      <td>720</td>\n",
              "      <td>120</td>\n",
              "      <td>120</td>\n",
              "      <td>120</td>\n",
              "      <td>120</td>\n",
              "      <td>120</td>\n",
              "      <td>120</td>\n",
              "      <td>3</td>\n",
              "      <td>1</td>\n",
              "    </tr>\n",
              "  </tbody>\n",
              "</table>\n",
              "</div>\n",
              "      <button class=\"colab-df-convert\" onclick=\"convertToInteractive('df-6287255e-de89-4f21-bf1f-8b2fcbdd9a5c')\"\n",
              "              title=\"Convert this dataframe to an interactive table.\"\n",
              "              style=\"display:none;\">\n",
              "        \n",
              "  <svg xmlns=\"http://www.w3.org/2000/svg\" height=\"24px\"viewBox=\"0 0 24 24\"\n",
              "       width=\"24px\">\n",
              "    <path d=\"M0 0h24v24H0V0z\" fill=\"none\"/>\n",
              "    <path d=\"M18.56 5.44l.94 2.06.94-2.06 2.06-.94-2.06-.94-.94-2.06-.94 2.06-2.06.94zm-11 1L8.5 8.5l.94-2.06 2.06-.94-2.06-.94L8.5 2.5l-.94 2.06-2.06.94zm10 10l.94 2.06.94-2.06 2.06-.94-2.06-.94-.94-2.06-.94 2.06-2.06.94z\"/><path d=\"M17.41 7.96l-1.37-1.37c-.4-.4-.92-.59-1.43-.59-.52 0-1.04.2-1.43.59L10.3 9.45l-7.72 7.72c-.78.78-.78 2.05 0 2.83L4 21.41c.39.39.9.59 1.41.59.51 0 1.02-.2 1.41-.59l7.78-7.78 2.81-2.81c.8-.78.8-2.07 0-2.86zM5.41 20L4 18.59l7.72-7.72 1.47 1.35L5.41 20z\"/>\n",
              "  </svg>\n",
              "      </button>\n",
              "      \n",
              "  <style>\n",
              "    .colab-df-container {\n",
              "      display:flex;\n",
              "      flex-wrap:wrap;\n",
              "      gap: 12px;\n",
              "    }\n",
              "\n",
              "    .colab-df-convert {\n",
              "      background-color: #E8F0FE;\n",
              "      border: none;\n",
              "      border-radius: 50%;\n",
              "      cursor: pointer;\n",
              "      display: none;\n",
              "      fill: #1967D2;\n",
              "      height: 32px;\n",
              "      padding: 0 0 0 0;\n",
              "      width: 32px;\n",
              "    }\n",
              "\n",
              "    .colab-df-convert:hover {\n",
              "      background-color: #E2EBFA;\n",
              "      box-shadow: 0px 1px 2px rgba(60, 64, 67, 0.3), 0px 1px 3px 1px rgba(60, 64, 67, 0.15);\n",
              "      fill: #174EA6;\n",
              "    }\n",
              "\n",
              "    [theme=dark] .colab-df-convert {\n",
              "      background-color: #3B4455;\n",
              "      fill: #D2E3FC;\n",
              "    }\n",
              "\n",
              "    [theme=dark] .colab-df-convert:hover {\n",
              "      background-color: #434B5C;\n",
              "      box-shadow: 0px 1px 3px 1px rgba(0, 0, 0, 0.15);\n",
              "      filter: drop-shadow(0px 1px 2px rgba(0, 0, 0, 0.3));\n",
              "      fill: #FFFFFF;\n",
              "    }\n",
              "  </style>\n",
              "\n",
              "      <script>\n",
              "        const buttonEl =\n",
              "          document.querySelector('#df-6287255e-de89-4f21-bf1f-8b2fcbdd9a5c button.colab-df-convert');\n",
              "        buttonEl.style.display =\n",
              "          google.colab.kernel.accessAllowed ? 'block' : 'none';\n",
              "\n",
              "        async function convertToInteractive(key) {\n",
              "          const element = document.querySelector('#df-6287255e-de89-4f21-bf1f-8b2fcbdd9a5c');\n",
              "          const dataTable =\n",
              "            await google.colab.kernel.invokeFunction('convertToInteractive',\n",
              "                                                     [key], {});\n",
              "          if (!dataTable) return;\n",
              "\n",
              "          const docLinkHtml = 'Like what you see? Visit the ' +\n",
              "            '<a target=\"_blank\" href=https://colab.research.google.com/notebooks/data_table.ipynb>data table notebook</a>'\n",
              "            + ' to learn more about interactive tables.';\n",
              "          element.innerHTML = '';\n",
              "          dataTable['output_type'] = 'display_data';\n",
              "          await google.colab.output.renderOutput(dataTable, element);\n",
              "          const docLink = document.createElement('div');\n",
              "          docLink.innerHTML = docLinkHtml;\n",
              "          element.appendChild(docLink);\n",
              "        }\n",
              "      </script>\n",
              "    </div>\n",
              "  </div>\n",
              "  "
            ]
          },
          "metadata": {},
          "execution_count": 7
        }
      ]
    },
    {
      "cell_type": "code",
      "source": [
        "# Just like .head() returns the first n number of rows in a data set, we also\n",
        "# have another function that will allow us to return the last n number of rows\n",
        "# in the data set that we are working with\n",
        "\n",
        "# That function is known as .tail() and works similar to how .head() works"
      ],
      "metadata": {
        "id": "l8krMlwjw3o-"
      },
      "execution_count": 9,
      "outputs": []
    },
    {
      "cell_type": "code",
      "source": [
        "# We are going to print the last 5 rows of our dataset by using .tail()\n",
        "df_pokemon.tail(n=5)"
      ],
      "metadata": {
        "colab": {
          "base_uri": "https://localhost:8080/",
          "height": 204
        },
        "id": "gjjzfNuhxOlw",
        "outputId": "d702b18f-c33a-4c7b-93a8-ddc2c92e0ae9"
      },
      "execution_count": 10,
      "outputs": [
        {
          "output_type": "execute_result",
          "data": {
            "text/plain": [
              "     pokedex_number        name    japanese_name  base_total  attack  defense  \\\n",
              "796             797  Celesteela   Tekkaguyaテッカグヤ         570     101      103   \n",
              "797             798     Kartana  Kamiturugiカミツルギ         570     181      131   \n",
              "798             799    Guzzlord  Akuzikingアクジキング         570     101       53   \n",
              "799             800    Necrozma    Necrozmaネクロズマ         600     107      101   \n",
              "800             801    Magearna     Magearnaマギアナ         600      95      115   \n",
              "\n",
              "     sp_attack  sp_defense  speed   hp  capture_rate  is_legendary  \n",
              "796        107         101     61   97            25             1  \n",
              "797         59          31    109   59           255             1  \n",
              "798         97          53     43  223            15             1  \n",
              "799        127          89     79   97             3             1  \n",
              "800        130         115     65   80             3             1  "
            ],
            "text/html": [
              "\n",
              "  <div id=\"df-aafd656a-cc65-4725-ad25-51b8162e4510\">\n",
              "    <div class=\"colab-df-container\">\n",
              "      <div>\n",
              "<style scoped>\n",
              "    .dataframe tbody tr th:only-of-type {\n",
              "        vertical-align: middle;\n",
              "    }\n",
              "\n",
              "    .dataframe tbody tr th {\n",
              "        vertical-align: top;\n",
              "    }\n",
              "\n",
              "    .dataframe thead th {\n",
              "        text-align: right;\n",
              "    }\n",
              "</style>\n",
              "<table border=\"1\" class=\"dataframe\">\n",
              "  <thead>\n",
              "    <tr style=\"text-align: right;\">\n",
              "      <th></th>\n",
              "      <th>pokedex_number</th>\n",
              "      <th>name</th>\n",
              "      <th>japanese_name</th>\n",
              "      <th>base_total</th>\n",
              "      <th>attack</th>\n",
              "      <th>defense</th>\n",
              "      <th>sp_attack</th>\n",
              "      <th>sp_defense</th>\n",
              "      <th>speed</th>\n",
              "      <th>hp</th>\n",
              "      <th>capture_rate</th>\n",
              "      <th>is_legendary</th>\n",
              "    </tr>\n",
              "  </thead>\n",
              "  <tbody>\n",
              "    <tr>\n",
              "      <th>796</th>\n",
              "      <td>797</td>\n",
              "      <td>Celesteela</td>\n",
              "      <td>Tekkaguyaテッカグヤ</td>\n",
              "      <td>570</td>\n",
              "      <td>101</td>\n",
              "      <td>103</td>\n",
              "      <td>107</td>\n",
              "      <td>101</td>\n",
              "      <td>61</td>\n",
              "      <td>97</td>\n",
              "      <td>25</td>\n",
              "      <td>1</td>\n",
              "    </tr>\n",
              "    <tr>\n",
              "      <th>797</th>\n",
              "      <td>798</td>\n",
              "      <td>Kartana</td>\n",
              "      <td>Kamiturugiカミツルギ</td>\n",
              "      <td>570</td>\n",
              "      <td>181</td>\n",
              "      <td>131</td>\n",
              "      <td>59</td>\n",
              "      <td>31</td>\n",
              "      <td>109</td>\n",
              "      <td>59</td>\n",
              "      <td>255</td>\n",
              "      <td>1</td>\n",
              "    </tr>\n",
              "    <tr>\n",
              "      <th>798</th>\n",
              "      <td>799</td>\n",
              "      <td>Guzzlord</td>\n",
              "      <td>Akuzikingアクジキング</td>\n",
              "      <td>570</td>\n",
              "      <td>101</td>\n",
              "      <td>53</td>\n",
              "      <td>97</td>\n",
              "      <td>53</td>\n",
              "      <td>43</td>\n",
              "      <td>223</td>\n",
              "      <td>15</td>\n",
              "      <td>1</td>\n",
              "    </tr>\n",
              "    <tr>\n",
              "      <th>799</th>\n",
              "      <td>800</td>\n",
              "      <td>Necrozma</td>\n",
              "      <td>Necrozmaネクロズマ</td>\n",
              "      <td>600</td>\n",
              "      <td>107</td>\n",
              "      <td>101</td>\n",
              "      <td>127</td>\n",
              "      <td>89</td>\n",
              "      <td>79</td>\n",
              "      <td>97</td>\n",
              "      <td>3</td>\n",
              "      <td>1</td>\n",
              "    </tr>\n",
              "    <tr>\n",
              "      <th>800</th>\n",
              "      <td>801</td>\n",
              "      <td>Magearna</td>\n",
              "      <td>Magearnaマギアナ</td>\n",
              "      <td>600</td>\n",
              "      <td>95</td>\n",
              "      <td>115</td>\n",
              "      <td>130</td>\n",
              "      <td>115</td>\n",
              "      <td>65</td>\n",
              "      <td>80</td>\n",
              "      <td>3</td>\n",
              "      <td>1</td>\n",
              "    </tr>\n",
              "  </tbody>\n",
              "</table>\n",
              "</div>\n",
              "      <button class=\"colab-df-convert\" onclick=\"convertToInteractive('df-aafd656a-cc65-4725-ad25-51b8162e4510')\"\n",
              "              title=\"Convert this dataframe to an interactive table.\"\n",
              "              style=\"display:none;\">\n",
              "        \n",
              "  <svg xmlns=\"http://www.w3.org/2000/svg\" height=\"24px\"viewBox=\"0 0 24 24\"\n",
              "       width=\"24px\">\n",
              "    <path d=\"M0 0h24v24H0V0z\" fill=\"none\"/>\n",
              "    <path d=\"M18.56 5.44l.94 2.06.94-2.06 2.06-.94-2.06-.94-.94-2.06-.94 2.06-2.06.94zm-11 1L8.5 8.5l.94-2.06 2.06-.94-2.06-.94L8.5 2.5l-.94 2.06-2.06.94zm10 10l.94 2.06.94-2.06 2.06-.94-2.06-.94-.94-2.06-.94 2.06-2.06.94z\"/><path d=\"M17.41 7.96l-1.37-1.37c-.4-.4-.92-.59-1.43-.59-.52 0-1.04.2-1.43.59L10.3 9.45l-7.72 7.72c-.78.78-.78 2.05 0 2.83L4 21.41c.39.39.9.59 1.41.59.51 0 1.02-.2 1.41-.59l7.78-7.78 2.81-2.81c.8-.78.8-2.07 0-2.86zM5.41 20L4 18.59l7.72-7.72 1.47 1.35L5.41 20z\"/>\n",
              "  </svg>\n",
              "      </button>\n",
              "      \n",
              "  <style>\n",
              "    .colab-df-container {\n",
              "      display:flex;\n",
              "      flex-wrap:wrap;\n",
              "      gap: 12px;\n",
              "    }\n",
              "\n",
              "    .colab-df-convert {\n",
              "      background-color: #E8F0FE;\n",
              "      border: none;\n",
              "      border-radius: 50%;\n",
              "      cursor: pointer;\n",
              "      display: none;\n",
              "      fill: #1967D2;\n",
              "      height: 32px;\n",
              "      padding: 0 0 0 0;\n",
              "      width: 32px;\n",
              "    }\n",
              "\n",
              "    .colab-df-convert:hover {\n",
              "      background-color: #E2EBFA;\n",
              "      box-shadow: 0px 1px 2px rgba(60, 64, 67, 0.3), 0px 1px 3px 1px rgba(60, 64, 67, 0.15);\n",
              "      fill: #174EA6;\n",
              "    }\n",
              "\n",
              "    [theme=dark] .colab-df-convert {\n",
              "      background-color: #3B4455;\n",
              "      fill: #D2E3FC;\n",
              "    }\n",
              "\n",
              "    [theme=dark] .colab-df-convert:hover {\n",
              "      background-color: #434B5C;\n",
              "      box-shadow: 0px 1px 3px 1px rgba(0, 0, 0, 0.15);\n",
              "      filter: drop-shadow(0px 1px 2px rgba(0, 0, 0, 0.3));\n",
              "      fill: #FFFFFF;\n",
              "    }\n",
              "  </style>\n",
              "\n",
              "      <script>\n",
              "        const buttonEl =\n",
              "          document.querySelector('#df-aafd656a-cc65-4725-ad25-51b8162e4510 button.colab-df-convert');\n",
              "        buttonEl.style.display =\n",
              "          google.colab.kernel.accessAllowed ? 'block' : 'none';\n",
              "\n",
              "        async function convertToInteractive(key) {\n",
              "          const element = document.querySelector('#df-aafd656a-cc65-4725-ad25-51b8162e4510');\n",
              "          const dataTable =\n",
              "            await google.colab.kernel.invokeFunction('convertToInteractive',\n",
              "                                                     [key], {});\n",
              "          if (!dataTable) return;\n",
              "\n",
              "          const docLinkHtml = 'Like what you see? Visit the ' +\n",
              "            '<a target=\"_blank\" href=https://colab.research.google.com/notebooks/data_table.ipynb>data table notebook</a>'\n",
              "            + ' to learn more about interactive tables.';\n",
              "          element.innerHTML = '';\n",
              "          dataTable['output_type'] = 'display_data';\n",
              "          await google.colab.output.renderOutput(dataTable, element);\n",
              "          const docLink = document.createElement('div');\n",
              "          docLink.innerHTML = docLinkHtml;\n",
              "          element.appendChild(docLink);\n",
              "        }\n",
              "      </script>\n",
              "    </div>\n",
              "  </div>\n",
              "  "
            ]
          },
          "metadata": {},
          "execution_count": 10
        }
      ]
    },
    {
      "cell_type": "code",
      "source": [
        "# Now we are going to use the Pandas library to create cool data visualizations\n",
        "# Pandas allows you to make plots of Series or DataFrame using function\n",
        "# 'pandas.DataFrame.plot'"
      ],
      "metadata": {
        "id": "kGv8K6WoxcMF"
      },
      "execution_count": 11,
      "outputs": []
    },
    {
      "cell_type": "code",
      "source": [
        "# We are now going to create a scatter plot to show the relationship between\n",
        "# Pokemons' offensive and defensive capabilities\n",
        "# NOTICE, our x and y arguments are the name of our coloumns in our data set\n",
        "df_pokemon.plot.scatter(x='attack', y='defense')"
      ],
      "metadata": {
        "colab": {
          "base_uri": "https://localhost:8080/",
          "height": 296
        },
        "id": "xmaW0-B7zQBy",
        "outputId": "02b6c147-1b33-4d87-8035-0b205f63e3f3"
      },
      "execution_count": 13,
      "outputs": [
        {
          "output_type": "execute_result",
          "data": {
            "text/plain": [
              "<matplotlib.axes._subplots.AxesSubplot at 0x7fde9b84bc50>"
            ]
          },
          "metadata": {},
          "execution_count": 13
        },
        {
          "output_type": "display_data",
          "data": {
            "text/plain": [
              "<Figure size 432x288 with 1 Axes>"
            ],
            "image/png": "[encoded data removed]"
          },
          "metadata": {
            "needs_background": "light"
          }
        }
      ]
    },
    {
      "cell_type": "code",
      "source": [
        "# Using Pandas, we will also be able to create a \"color bar\" that will allow us\n",
        "# to differentiate our data. The following line of code will add color variation\n",
        "# that will allow us to learn whether Pokemons with lower offensive and\n",
        "# defensive capabilities are easily captured\n",
        "\n",
        "# In order to do so, all we have to add is a 'c' paramter (shorthand for color)\n",
        "# and its corresponding value to the previos function\n",
        "\n",
        "# NOTE: once again, 'capture_rate' is a name of a coloumn in our data set\n",
        "df_pokemon.plot.scatter(x='attack', y='defense', c='capture_rate')"
      ],
      "metadata": {
        "colab": {
          "base_uri": "https://localhost:8080/",
          "height": 269
        },
        "id": "fO6dQ_aX0R7O",
        "outputId": "a8b09ad0-64cb-4c07-b87f-dae76be48be2"
      },
      "execution_count": 14,
      "outputs": [
        {
          "output_type": "execute_result",
          "data": {
            "text/plain": [
              "<matplotlib.axes._subplots.AxesSubplot at 0x7fde9b144450>"
            ]
          },
          "metadata": {},
          "execution_count": 14
        },
        {
          "output_type": "display_data",
          "data": {
            "text/plain": [
              "<Figure size 432x288 with 2 Axes>"
            ],
            "image/png": "[encoded data removed]"
          },
          "metadata": {
            "needs_background": "light"
          }
        }
      ]
    },
    {
      "cell_type": "code",
      "source": [
        "# We can also create bar graphs by using Pandas\n",
        "df_pokemon.plot.bar(x='name', y='speed')"
      ],
      "metadata": {
        "colab": {
          "base_uri": "https://localhost:8080/",
          "height": 356
        },
        "id": "Bp1PNcVh2JQo",
        "outputId": "2c9a7012-96e0-4fda-8fab-8490bb833bee"
      },
      "execution_count": 15,
      "outputs": [
        {
          "output_type": "execute_result",
          "data": {
            "text/plain": [
              "<matplotlib.axes._subplots.AxesSubplot at 0x7fde99329e90>"
            ]
          },
          "metadata": {},
          "execution_count": 15
        },
        {
          "output_type": "display_data",
          "data": {
            "text/plain": [
              "<Figure size 432x288 with 1 Axes>"
            ],
            "image/png": "[encoded data removed]"
          },
          "metadata": {
            "needs_background": "light"
          }
        }
      ]
    },
    {
      "cell_type": "code",
      "source": [
        "# As you see from above, our bar chart is crowded... how can we fix this?\n",
        "# String slicing!!!\n",
        "# By using string slicing, we will be able to only plot a certain \"chunk\" of the\n",
        "# data set. "
      ],
      "metadata": {
        "id": "vQr7k7p824gN"
      },
      "execution_count": 16,
      "outputs": []
    },
    {
      "cell_type": "code",
      "source": [
        "# The following line of code uses string slicing to only print the first 5 only\n",
        "df_pokemon[0:5].plot.bar(x='name', y='speed')"
      ],
      "metadata": {
        "colab": {
          "base_uri": "https://localhost:8080/",
          "height": 348
        },
        "id": "c7OtE_qZ30T7",
        "outputId": "e100d75c-fc3c-4e7e-fd07-c1f1cd91e9d9"
      },
      "execution_count": 17,
      "outputs": [
        {
          "output_type": "execute_result",
          "data": {
            "text/plain": [
              "<matplotlib.axes._subplots.AxesSubplot at 0x7fde9b1442d0>"
            ]
          },
          "metadata": {},
          "execution_count": 17
        },
        {
          "output_type": "display_data",
          "data": {
            "text/plain": [
              "<Figure size 432x288 with 1 Axes>"
            ],
            "image/png": "[encoded data removed]"
          },
          "metadata": {
            "needs_background": "light"
          }
        }
      ]
    },
    {
      "cell_type": "code",
      "source": [
        "# Sometimes your chart does not provide you the appropiate labels so you will\n",
        "# need to name them yourself. This can be done easily.\n",
        "\n",
        "# Craete a reference variable. This variable will store our chart\n",
        "barGraph = df_pokemon[0:5].plot.bar(x='name', y='speed')\n",
        "# Call our reference variable, and use .set_xlabel and .set_ylabel to set\n",
        "# x and y label anmes respectively\n",
        "barGraph.set_xlabel('Name')\n",
        "barGraph.set_ylabel('Speed')"
      ],
      "metadata": {
        "colab": {
          "base_uri": "https://localhost:8080/",
          "height": 348
        },
        "id": "MTXhSOv84AeD",
        "outputId": "9fc35158-aee7-42db-9d77-df96258d2079"
      },
      "execution_count": 18,
      "outputs": [
        {
          "output_type": "execute_result",
          "data": {
            "text/plain": [
              "Text(0, 0.5, 'Speed')"
            ]
          },
          "metadata": {},
          "execution_count": 18
        },
        {
          "output_type": "display_data",
          "data": {
            "text/plain": [
              "<Figure size 432x288 with 1 Axes>"
            ],
            "image/png": "[encoded data removed]"
          },
          "metadata": {
            "needs_background": "light"
          }
        }
      ]
    },
    {
      "cell_type": "code",
      "source": [
        ""
      ],
      "metadata": {
        "id": "o1KbShln7SoK"
      },
      "execution_count": null,
      "outputs": []
    }
  ]
}